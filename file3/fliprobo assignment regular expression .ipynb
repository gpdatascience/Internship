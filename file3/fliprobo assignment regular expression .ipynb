{
 "cells": [
  {
   "cell_type": "code",
   "execution_count": 2,
   "id": "4c181b12",
   "metadata": {},
   "outputs": [],
   "source": [
    "import re"
   ]
  },
  {
   "cell_type": "markdown",
   "id": "0d3187b8",
   "metadata": {},
   "source": [
    "# answer-1"
   ]
  },
  {
   "cell_type": "code",
   "execution_count": 3,
   "id": "b2ec8a0c",
   "metadata": {},
   "outputs": [
    {
     "name": "stdout",
     "output_type": "stream",
     "text": [
      "Python:Exercises::PHP:exercises:\n"
     ]
    }
   ],
   "source": [
    "text='Python Exercises, PHP exercises.'\n",
    "print(re.sub('[ ,.]',\":\",text))"
   ]
  },
  {
   "cell_type": "markdown",
   "id": "b9949514",
   "metadata": {},
   "source": [
    "# answer-2"
   ]
  },
  {
   "cell_type": "code",
   "execution_count": 4,
   "id": "b0861685",
   "metadata": {},
   "outputs": [
    {
     "name": "stdout",
     "output_type": "stream",
     "text": [
      "['ear', 'ant']\n"
     ]
    }
   ],
   "source": [
    "text=\"ear ant\"\n",
    "list=re.findall(\"[ae]\\w+\",text)\n",
    "print(list)"
   ]
  },
  {
   "cell_type": "markdown",
   "id": "3064813e",
   "metadata": {},
   "source": [
    "# answer-3"
   ]
  },
  {
   "cell_type": "code",
   "execution_count": 5,
   "id": "9ff4b678",
   "metadata": {},
   "outputs": [
    {
     "data": {
      "text/plain": [
       "['rajkumar', 'triksha', 'instantiate']"
      ]
     },
     "execution_count": 5,
     "metadata": {},
     "output_type": "execute_result"
    }
   ],
   "source": [
    "text='rajkumar triksha instantiate you ri t'\n",
    "list=re.compile(r\"\\b\\w{4,}\\b\")\n",
    "re.findall(list,text)"
   ]
  },
  {
   "cell_type": "markdown",
   "id": "61d6c295",
   "metadata": {},
   "source": [
    "# answer-4"
   ]
  },
  {
   "cell_type": "code",
   "execution_count": 6,
   "id": "009d351a",
   "metadata": {},
   "outputs": [
    {
     "data": {
      "text/plain": [
       "['hujin', 'three', 'four', 'rim']"
      ]
     },
     "execution_count": 6,
     "metadata": {},
     "output_type": "execute_result"
    }
   ],
   "source": [
    "text='hujin three four rim orange'\n",
    "list=re.compile(r\"\\b\\w{3,5}\\b\")\n",
    "re.findall(list,text)"
   ]
  },
  {
   "cell_type": "markdown",
   "id": "c375f02a",
   "metadata": {},
   "source": [
    "# answer-5"
   ]
  },
  {
   "cell_type": "code",
   "execution_count": 7,
   "id": "a100c910",
   "metadata": {},
   "outputs": [
    {
     "name": "stdout",
     "output_type": "stream",
     "text": [
      "example.com\n",
      "hr@fliprobo.com\n",
      "github.com\n",
      "HelloData Science World\n",
      "DataScientist\n"
     ]
    }
   ],
   "source": [
    "texts=[\"example(.com)\",\"hr@fliprobo(.com)\",\"github(.com)\",\"Hello(Data Science World)\",\"Data(Scientist)\"]\n",
    "list=re.compile(r\"[()]\")\n",
    "for text in texts:\n",
    "    print(re.sub(list,\"\",text))\n"
   ]
  },
  {
   "cell_type": "markdown",
   "id": "95440673",
   "metadata": {},
   "source": [
    "# answer-6"
   ]
  },
  {
   "cell_type": "code",
   "execution_count": 8,
   "id": "36d2497e",
   "metadata": {},
   "outputs": [
    {
     "name": "stdout",
     "output_type": "stream",
     "text": [
      "[\"example \", \"hr@fliprobo \", \"github \", \"Hello \", \"Data \"]\n"
     ]
    }
   ],
   "source": [
    "file=open(\"text_new.txt\",'r')\n",
    "texts=file.read()\n",
    "print(re.sub(r\"\\([^)]+\\)\",\"\",texts))"
   ]
  },
  {
   "cell_type": "markdown",
   "id": "0909a804",
   "metadata": {},
   "source": [
    "# answer - 7"
   ]
  },
  {
   "cell_type": "code",
   "execution_count": 9,
   "id": "6d2d5b8a",
   "metadata": {},
   "outputs": [
    {
     "name": "stdout",
     "output_type": "stream",
     "text": [
      "['Importance', 'Of', 'Regular', 'Expression', 'In', 'Python']\n"
     ]
    }
   ],
   "source": [
    "text=\"ImportanceOfRegularExpressionInPython\"\n",
    "print(re.findall('[A-Z][a-z]*',text))\n"
   ]
  },
  {
   "cell_type": "markdown",
   "id": "01cd121f",
   "metadata": {},
   "source": [
    "# answer-8"
   ]
  },
  {
   "cell_type": "code",
   "execution_count": 10,
   "id": "214dd24f",
   "metadata": {},
   "outputs": [
    {
     "data": {
      "text/plain": [
       "'RegularExpression 1IsAn 2ImportantTopic 3InPython'"
      ]
     },
     "execution_count": 10,
     "metadata": {},
     "output_type": "execute_result"
    }
   ],
   "source": [
    "text= \"RegularExpression1IsAn2ImportantTopic3InPython\"\n",
    "import re\n",
    "re.sub(r'(\\d)',r' \\1', text)\n",
    "\n",
    "                                "
   ]
  },
  {
   "cell_type": "markdown",
   "id": "02252392",
   "metadata": {},
   "source": [
    "# answer-9"
   ]
  },
  {
   "cell_type": "code",
   "execution_count": 11,
   "id": "67ac932c",
   "metadata": {},
   "outputs": [
    {
     "data": {
      "text/plain": [
       "'RegularExpression 1 IsAn 2 ImportantTopic 3 InPython'"
      ]
     },
     "execution_count": 11,
     "metadata": {},
     "output_type": "execute_result"
    }
   ],
   "source": [
    "text=\"RegularExpression1IsAn2ImportantTopic3InPython\"\n",
    "re.sub(r'(\\d)' , r' \\1 ',text)"
   ]
  },
  {
   "cell_type": "markdown",
   "id": "7703556f",
   "metadata": {},
   "source": [
    "# answer-10"
   ]
  },
  {
   "cell_type": "code",
   "execution_count": 12,
   "id": "4de3c58b",
   "metadata": {},
   "outputs": [
    {
     "data": {
      "text/plain": [
       "['xyz@domain.com', 'xyz.abc@sdomain.domain.com', 'hr@fliprobo.com']"
      ]
     },
     "execution_count": 12,
     "metadata": {},
     "output_type": "execute_result"
    }
   ],
   "source": [
    "text_one=\"Hello my name is Data Science and my email address is xyz@domain.com and alternate email address is xyz.abc@sdomain.domain.com please contact us at hr@fliprobo.com  further information.\"\n",
    "\n",
    "re.findall(r\"[a-z0-9\\.\\-+_]+@[a-z0-9\\.\\-+_]+\\.[a-z]+\",text_one)\n"
   ]
  },
  {
   "cell_type": "markdown",
   "id": "13e5681b",
   "metadata": {},
   "source": [
    "# answer-11"
   ]
  },
  {
   "cell_type": "code",
   "execution_count": 13,
   "id": "b631c420",
   "metadata": {},
   "outputs": [
    {
     "name": "stdout",
     "output_type": "stream",
     "text": [
      "Not matched!\n",
      "Found a match!\n"
     ]
    }
   ],
   "source": [
    "def text_match(text):\n",
    "    patterns = '^[a-zA-Z0-9_]*$'\n",
    "    if re.search(patterns,text):\n",
    "             return ('Found a match!')\n",
    "    else:\n",
    "             return  ('Not matched!')\n",
    "print(text_match(\"lion is a bad animal.\"))\n",
    "print(text_match(\"Columbo_india_2\"))"
   ]
  },
  {
   "cell_type": "markdown",
   "id": "8ef2f7c6",
   "metadata": {},
   "source": [
    "# answer-12"
   ]
  },
  {
   "cell_type": "code",
   "execution_count": 14,
   "id": "7a913b7a",
   "metadata": {},
   "outputs": [
    {
     "name": "stdout",
     "output_type": "stream",
     "text": [
      "True\n",
      "False\n"
     ]
    }
   ],
   "source": [
    "def match_num(string):\n",
    "    text=re.compile(r\"^5\")\n",
    "    if text.match(string):\n",
    "        return True\n",
    "    else:\n",
    "        return False\n",
    "print(match_num('5-2345861'))\n",
    "print(match_num('6-2345861'))"
   ]
  },
  {
   "cell_type": "markdown",
   "id": "d1e8d69a",
   "metadata": {},
   "source": [
    "# answer-13"
   ]
  },
  {
   "cell_type": "code",
   "execution_count": 15,
   "id": "85ded3d2",
   "metadata": {},
   "outputs": [
    {
     "name": "stdout",
     "output_type": "stream",
     "text": [
      "216.8.94.196\n"
     ]
    }
   ],
   "source": [
    "ip=\"216.08.094.196\"\n",
    "string=re.sub('\\.[0]*', '.',ip)\n",
    "print(string)"
   ]
  },
  {
   "cell_type": "markdown",
   "id": "bd36afd1",
   "metadata": {},
   "source": [
    "# answer-14"
   ]
  },
  {
   "cell_type": "code",
   "execution_count": 16,
   "id": "aa7f713b",
   "metadata": {},
   "outputs": [
    {
     "data": {
      "text/plain": [
       "[('August 15th 1947', 'August')]"
      ]
     },
     "execution_count": 16,
     "metadata": {},
     "output_type": "execute_result"
    }
   ],
   "source": [
    "file=open(\"sample_text.txt\",'r')\n",
    "text=file.read()\n",
    "re.findall(r'((January|February|March|April|May|June|July|August|September|October|November|December)\\s\\d+[a-z]*\\s\\d{4})',text)\n",
    "\n",
    "\n",
    "\n"
   ]
  },
  {
   "cell_type": "markdown",
   "id": "76b47e52",
   "metadata": {},
   "source": [
    "# answer-15"
   ]
  },
  {
   "cell_type": "code",
   "execution_count": 17,
   "id": "9349ced4",
   "metadata": {},
   "outputs": [
    {
     "name": "stdout",
     "output_type": "stream",
     "text": [
      "Searching for \"fox\" in \"The quick brown fox jumps over the lazy dog.\" ->\n",
      "Matched!\n",
      "Searching for \"dog\" in \"The quick brown fox jumps over the lazy dog.\" ->\n",
      "Matched!\n",
      "Searching for \"horse\" in \"The quick brown fox jumps over the lazy dog.\" ->\n",
      "Not Matched!\n"
     ]
    }
   ],
   "source": [
    "import re\n",
    "patterns = [ 'fox', 'dog', 'horse' ]\n",
    "text = 'The quick brown fox jumps over the lazy dog.'\n",
    "for pattern in patterns:\n",
    "    print('Searching for \"%s\" in \"%s\" ->' % (pattern, text),)\n",
    "    if re.search(pattern,  text):\n",
    "        print('Matched!')\n",
    "    else:\n",
    "        print('Not Matched!')"
   ]
  },
  {
   "cell_type": "markdown",
   "id": "0e25f9e9",
   "metadata": {},
   "source": [
    "# answer-16"
   ]
  },
  {
   "cell_type": "code",
   "execution_count": 18,
   "id": "28823817",
   "metadata": {},
   "outputs": [
    {
     "name": "stdout",
     "output_type": "stream",
     "text": [
      "Found \"fox\" in \"The quick brown fox jumps over the lazy dog.\" from 16 to 19 \n"
     ]
    }
   ],
   "source": [
    "import re\n",
    "pattern = 'fox'\n",
    "text = 'The quick brown fox jumps over the lazy dog.'\n",
    "match = re.search(pattern, text)\n",
    "s = match.start()\n",
    "e = match.end()\n",
    "print('Found \"%s\" in \"%s\" from %d to %d ' % \\\n",
    "    (match.re.pattern, match.string, s, e))"
   ]
  },
  {
   "cell_type": "markdown",
   "id": "a0ea5d78",
   "metadata": {},
   "source": [
    "# answer-17"
   ]
  },
  {
   "cell_type": "code",
   "execution_count": 19,
   "id": "efd51de7",
   "metadata": {},
   "outputs": [
    {
     "name": "stdout",
     "output_type": "stream",
     "text": [
      "Found \"exercises\"\n",
      "Found \"exercises\"\n",
      "Found \"exercises\"\n"
     ]
    }
   ],
   "source": [
    "text = 'Python exercises, PHP exercises, C# exercises'\n",
    "pattern = 'exercises'\n",
    "for match in re.findall(pattern, text):\n",
    "    print('Found \"%s\"' % match)"
   ]
  },
  {
   "cell_type": "markdown",
   "id": "b13f5d38",
   "metadata": {},
   "source": [
    "# answer-18"
   ]
  },
  {
   "cell_type": "code",
   "execution_count": 20,
   "id": "192a9ed0",
   "metadata": {},
   "outputs": [
    {
     "name": "stdout",
     "output_type": "stream",
     "text": [
      "Found \"exercises\" at 7:16\n",
      "Found \"exercises\" at 22:31\n",
      "Found \"exercises\" at 36:45\n"
     ]
    }
   ],
   "source": [
    "text = 'Python exercises, PHP exercises, C# exercises'\n",
    "pattern = 'exercises'\n",
    "for match in re.finditer(pattern, text):\n",
    "    s = match.start()\n",
    "    e = match.end()\n",
    "    print('Found \"%s\" at %d:%d' % (text[s:e], s, e))"
   ]
  },
  {
   "cell_type": "markdown",
   "id": "18fbcdab",
   "metadata": {},
   "source": [
    "# answer-19"
   ]
  },
  {
   "cell_type": "code",
   "execution_count": 21,
   "id": "48b91a71",
   "metadata": {},
   "outputs": [
    {
     "name": "stdout",
     "output_type": "stream",
     "text": [
      "Original date in YYY-MM-DD Format:  2026-01-02\n",
      "New date in DD-MM-YYYY Format:  02-01-2026\n"
     ]
    }
   ],
   "source": [
    "def change_date_format(dt):\n",
    "        return re.sub(r'(\\d{4})-(\\d{1,2})-(\\d{1,2})', '\\\\3-\\\\2-\\\\1', dt)\n",
    "dt1 = \"2026-01-02\"\n",
    "print(\"Original date in YYY-MM-DD Format: \",dt1)\n",
    "print(\"New date in DD-MM-YYYY Format: \",change_date_format(dt1))\n"
   ]
  },
  {
   "cell_type": "markdown",
   "id": "f688ffb4",
   "metadata": {},
   "source": [
    "# answer-20"
   ]
  },
  {
   "cell_type": "code",
   "execution_count": 77,
   "id": "ad1d93a7",
   "metadata": {},
   "outputs": [
    {
     "data": {
      "text/plain": [
       "[]"
      ]
     },
     "execution_count": 77,
     "metadata": {},
     "output_type": "execute_result"
    }
   ],
   "source": [
    "texts=\"01.12\"\n",
    "list = re.compile(r\"[d]+(\\.[d]{1,2})\")\n",
    "#for text in texts:                                                                                                                                                                                    \n",
    "re.findall(list,texts)\n"
   ]
  },
  {
   "cell_type": "code",
   "execution_count": 47,
   "id": "4d5071f3",
   "metadata": {},
   "outputs": [
    {
     "data": {
      "text/plain": [
       "['01.12, 0132.123, 2.31875, 145.8, 3.01, 27.25, 0.25']"
      ]
     },
     "execution_count": 47,
     "metadata": {},
     "output_type": "execute_result"
    }
   ],
   "source": [
    "[\"01.12, 0132.123, 2.31875, 145.8, 3.01, 27.25, 0.25\"]"
   ]
  },
  {
   "cell_type": "code",
   "execution_count": null,
   "id": "637ef407",
   "metadata": {},
   "outputs": [],
   "source": []
  },
  {
   "cell_type": "markdown",
   "id": "2a706c13",
   "metadata": {},
   "source": [
    "# answer-21"
   ]
  },
  {
   "cell_type": "code",
   "execution_count": 24,
   "id": "b66b2694",
   "metadata": {},
   "outputs": [
    {
     "name": "stdout",
     "output_type": "stream",
     "text": [
      "50\n",
      "Index position: 62\n"
     ]
    }
   ],
   "source": [
    "text = \"The following example creates an ArrayList with a capacity of 50 elements. Four elements are then added to the ArrayList and the ArrayList is trimmed accordingly.\"\n",
    "\n",
    "for m in re.finditer(\"\\d+\", text):\n",
    "    print(m.group(0))\n",
    "    print(\"Index position:\", m.start())\n"
   ]
  },
  {
   "cell_type": "markdown",
   "id": "d5e23dbd",
   "metadata": {},
   "source": [
    "# answer-22"
   ]
  },
  {
   "cell_type": "code",
   "execution_count": 25,
   "id": "46d66be2",
   "metadata": {},
   "outputs": [
    {
     "name": "stdout",
     "output_type": "stream",
     "text": [
      "950\n"
     ]
    }
   ],
   "source": [
    "text= 'My marks in each semester are: 947, 896, 926, 524, 734, 950, 642'\n",
    "number = re.findall('\\d+', text)\n",
    "number = map(int, number)\n",
    "print(max(number))"
   ]
  },
  {
   "cell_type": "markdown",
   "id": "3bb074e0",
   "metadata": {},
   "source": [
    "# answer-23"
   ]
  },
  {
   "cell_type": "code",
   "execution_count": 26,
   "id": "f4b5a694",
   "metadata": {},
   "outputs": [
    {
     "name": "stdout",
     "output_type": "stream",
     "text": [
      "Python\n",
      "Python Exercises\n",
      "Python Exercises Practice Solution\n"
     ]
    }
   ],
   "source": [
    "def capital_words_spaces(str1):\n",
    "  return re.sub(r\"(\\w)([A-Z])\", r\"\\1 \\2\", str1)\n",
    "\n",
    "print(capital_words_spaces(\"Python\"))\n",
    "print(capital_words_spaces(\"PythonExercises\"))\n",
    "print(capital_words_spaces(\"PythonExercisesPracticeSolution\"))"
   ]
  },
  {
   "cell_type": "markdown",
   "id": "0671d402",
   "metadata": {},
   "source": [
    "# answer-24"
   ]
  },
  {
   "cell_type": "code",
   "execution_count": 27,
   "id": "c4c3f9bb",
   "metadata": {},
   "outputs": [
    {
     "name": "stdout",
     "output_type": "stream",
     "text": [
      "Found a match!\n",
      "Found a match!\n",
      "Not matched!\n",
      "Not matched!\n",
      "Not matched!\n",
      "Found a match!\n"
     ]
    }
   ],
   "source": [
    "def text_match(text):\n",
    "        patterns = '[A-Z]+[a-z]+$'\n",
    "        if re.search(patterns, text):\n",
    "                return 'Found a match!'\n",
    "        else:\n",
    "                return('Not matched!')\n",
    "print(text_match(\"AaBbGg\"))\n",
    "print(text_match(\"Python\"))\n",
    "print(text_match(\"python\"))\n",
    "print(text_match(\"PYTHON\"))\n",
    "print(text_match(\"aA\"))\n",
    "print(text_match(\"Aa\"))"
   ]
  },
  {
   "cell_type": "markdown",
   "id": "e503b69d",
   "metadata": {},
   "source": [
    "# answer-25"
   ]
  },
  {
   "cell_type": "code",
   "execution_count": 28,
   "id": "3201476e",
   "metadata": {},
   "outputs": [
    {
     "data": {
      "text/plain": [
       "'Hello hello world'"
      ]
     },
     "execution_count": 28,
     "metadata": {},
     "output_type": "execute_result"
    }
   ],
   "source": [
    "text= \"Hello hello world world\"\n",
    "re.sub(r'\\b(\\w+)( \\1\\b)+', r'\\1', text)"
   ]
  },
  {
   "cell_type": "markdown",
   "id": "4931cf07",
   "metadata": {},
   "source": [
    "# answer-26"
   ]
  },
  {
   "cell_type": "code",
   "execution_count": 29,
   "id": "cbccdefb",
   "metadata": {},
   "outputs": [
    {
     "name": "stdout",
     "output_type": "stream",
     "text": [
      "The string is :\n",
      "Python@\n",
      "The string doesnot end with alphanumeric character\n",
      "\n",
      "The string is :\n",
      "Python1245\n",
      "The string ends with alphanumeric character\n"
     ]
    }
   ],
   "source": [
    "regex_expression = '[a-zA-z0-9]$'\n",
    "\n",
    "def check_string(my_string):\n",
    "\n",
    "   if(re.search(regex_expression, my_string)):\n",
    "      print(\"The string ends with alphanumeric character\")\n",
    "\n",
    "   else:\n",
    "      print(\"The string doesnot end with alphanumeric character\")\n",
    "\n",
    "\n",
    "my_string_1 = \"Python@\"\n",
    "print(\"The string is :\")\n",
    "print(my_string_1)\n",
    "check_string(my_string_1)\n",
    "\n",
    "my_string_2 = \"Python1245\"\n",
    "print(\"\\nThe string is :\")\n",
    "print(my_string_2)\n",
    "check_string(my_string_2)"
   ]
  },
  {
   "cell_type": "markdown",
   "id": "d977ccf7",
   "metadata": {},
   "source": [
    "# answer-27"
   ]
  },
  {
   "cell_type": "code",
   "execution_count": 30,
   "id": "f4b97fab",
   "metadata": {},
   "outputs": [
    {
     "data": {
      "text/plain": [
       "['#Doltiwal', '#xyzabc', '#Demonetization']"
      ]
     },
     "execution_count": 30,
     "metadata": {},
     "output_type": "execute_result"
    }
   ],
   "source": [
    "text=\"\"\"RT @kapil_kausik: #Doltiwal I mean #xyzabc is \"hurt\" by #Demonetization as the same has rendered USELESS <ed><U+00A0><U+00BD><ed><U+00B1><U+0089> \"acquired funds\" No wo\"\"\"\n",
    "regex = \"(#\\w+)\"\n",
    "re.findall(regex, text)\n"
   ]
  },
  {
   "cell_type": "markdown",
   "id": "b52ca500",
   "metadata": {},
   "source": [
    "# answer-28"
   ]
  },
  {
   "cell_type": "code",
   "execution_count": 31,
   "id": "967af37a",
   "metadata": {},
   "outputs": [
    {
     "name": "stdout",
     "output_type": "stream",
     "text": [
      "@Jags123456 Bharat band on 28??<ed><ed>Those who  are protesting #demonetization  are all different party leaders\n"
     ]
    }
   ],
   "source": [
    "text=\"@Jags123456 Bharat band on 28??<ed><U+00A0><U+00BD><ed><U+00B8><U+0082>Those who  are protesting #demonetization  are all different party leaders\"\n",
    "def remove_special_symbols(text):\n",
    "    pattern = r\"<U\\+[A-Za-z0-9]*>\"\n",
    "    cleaned_text = re.sub(pattern, \"\", text)\n",
    "    print(cleaned_text)\n",
    "remove_special_symbols(text)"
   ]
  },
  {
   "cell_type": "markdown",
   "id": "9d7b5b85",
   "metadata": {},
   "source": [
    "# answer-29"
   ]
  },
  {
   "cell_type": "code",
   "execution_count": 32,
   "id": "152546da",
   "metadata": {},
   "outputs": [
    {
     "data": {
      "text/plain": [
       "['12-09-1992', '15-12-1999']"
      ]
     },
     "execution_count": 32,
     "metadata": {},
     "output_type": "execute_result"
    }
   ],
   "source": [
    "file=open(\"rontxt.txt\",'r')\n",
    "text=file.read()\n",
    "pattern = \"\\d{2}[/-]\\d{2}[/-]\\d{4}\"\n",
    "re.findall(pattern, text)"
   ]
  },
  {
   "cell_type": "markdown",
   "id": "f4ac29d9",
   "metadata": {},
   "source": [
    "# answer-30"
   ]
  },
  {
   "cell_type": "code",
   "execution_count": 33,
   "id": "3e6362c4",
   "metadata": {},
   "outputs": [
    {
     "name": "stdout",
     "output_type": "stream",
     "text": [
      " following example creates arraylist a capacity elements.4 elements added arraylist arraylist trimmed accordingly.\n"
     ]
    }
   ],
   "source": [
    "Sample_text=\"the following example creates an arraylist with a capacity of 50 elements.4 elements are then added to the arraylist and the arraylist is trimmed accordingly.\"\n",
    "shortword = re.compile(r'\\W*\\b\\w{2,4}\\b')\n",
    "print(shortword.sub('', Sample_text))"
   ]
  },
  {
   "cell_type": "code",
   "execution_count": null,
   "id": "040a9f21",
   "metadata": {},
   "outputs": [],
   "source": []
  }
 ],
 "metadata": {
  "kernelspec": {
   "display_name": "Python 3 (ipykernel)",
   "language": "python",
   "name": "python3"
  },
  "language_info": {
   "codemirror_mode": {
    "name": "ipython",
    "version": 3
   },
   "file_extension": ".py",
   "mimetype": "text/x-python",
   "name": "python",
   "nbconvert_exporter": "python",
   "pygments_lexer": "ipython3",
   "version": "3.9.13"
  }
 },
 "nbformat": 4,
 "nbformat_minor": 5
}
